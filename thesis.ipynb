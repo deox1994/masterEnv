{
 "cells": [
  {
   "cell_type": "markdown",
   "id": "f1fecbd3",
   "metadata": {},
   "source": [
    "# Master Thesis Jupyter Notebook"
   ]
  },
  {
   "cell_type": "markdown",
   "id": "310f3648",
   "metadata": {},
   "source": [
    "### Model Selection"
   ]
  },
  {
   "cell_type": "code",
   "execution_count": null,
   "id": "5e644b40",
   "metadata": {},
   "outputs": [],
   "source": [
    "from os import listdir, path\n",
    "\n",
    "modelVersion = input('Select YOLO version model: ')\n",
    "archType = input('Select the type of architecture: ')\n",
    "scale = input('Select the scale of the architecture: ')\n",
    "archsPath = path.join('..', 'models', 'architectures', 'v' + str(modelVersion))\n",
    "weightQue = input('Do you to use pretrained wieghts? Y/N: ')\n",
    "weightsPath = path.join('..', 'models', 'pretrained', 'v' + str(modelVersion))\n",
    "\n",
    "if modelVersion == '11':\n",
    "    architecture = path.join(archsPath, listdir(archsPath)[int(archType)], 'yolo' + str(modelVersion) + scale + '.yaml')\n",
    "    weights = path.join(weightsPath, 'yolo' + str(modelVersion) + scale + '.pt') if weightQue == 'Y' else None\n",
    "else:\n",
    "    architecture = path.join(archsPath, listdir(archsPath)[int(archType)], 'yolov' + str(modelVersion) + scale + '.yaml')\n",
    "    weights = path.join(weightsPath, 'yolov' + str(modelVersion) + scale + '.pt') if weightQue == 'Y' else None\n",
    "\n",
    "print(\"Selected Architecture is: \", architecture)\n",
    "print(\"Selected Weights is: \", weights)"
   ]
  },
  {
   "cell_type": "markdown",
   "id": "da2e36bf",
   "metadata": {},
   "source": [
    "### Model Creation"
   ]
  },
  {
   "cell_type": "code",
   "execution_count": null,
   "id": "0635a4a4",
   "metadata": {},
   "outputs": [],
   "source": [
    "from ultralytics import YOLO\n",
    "model = YOLO(architecture).load(weights) if not weights == None else YOLO(architecture)"
   ]
  },
  {
   "cell_type": "code",
   "execution_count": null,
   "id": "20f72d90",
   "metadata": {},
   "outputs": [],
   "source": [
    "name = input('Insert a descriptive name of the model: ')\n",
    "model.train(workers=1, device=0, data=\"../datasets/DsLMF_origDataset.yaml\", epochs=200, lr0=0.01, lrf=0.01, momentum=0.937, batch=16, optimizer='SGD', plots =True, deterministic = False, project=path.join('..', 'results', 'minerBehavior', 'origDataset', 'v'+str(modelVersion), listdir(archsPath)[int(archType)][2:]), name=name, close_mosaic=0, save_txt=True, save_conf=True, save_period=10, patience=20, verbose=False)"
   ]
  },
  {
   "cell_type": "markdown",
   "id": "7673b83d",
   "metadata": {},
   "source": [
    "### Model Evaluation"
   ]
  },
  {
   "cell_type": "code",
   "execution_count": null,
   "id": "567d0e0e",
   "metadata": {},
   "outputs": [],
   "source": [
    "from os import listdir, path\n",
    "from ultralytics import YOLO\n",
    "\n",
    "weightsPath = path.join('..', 'results', 'minerBehavior', 'origDataset', 'v11', 'Base', '1.yolov11n', 'MaxPool', 'weights', 'best.pt')\n",
    "print(\"Selected Weights is: \", weightsPath)\n",
    "\n",
    "model = YOLO(weightsPath)\n",
    "metrics = model.val(device=0, data=\"../datasets/DsLMF_origDataset.yaml\", imgsz=640)"
   ]
  }
 ],
 "metadata": {
  "kernelspec": {
   "display_name": ".venv",
   "language": "python",
   "name": "python3"
  },
  "language_info": {
   "codemirror_mode": {
    "name": "ipython",
    "version": 3
   },
   "file_extension": ".py",
   "mimetype": "text/x-python",
   "name": "python",
   "nbconvert_exporter": "python",
   "pygments_lexer": "ipython3",
   "version": "3.12.3"
  }
 },
 "nbformat": 4,
 "nbformat_minor": 5
}
